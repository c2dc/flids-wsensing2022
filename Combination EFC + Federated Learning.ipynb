{
 "cells": [
  {
   "cell_type": "code",
   "execution_count": 1,
   "id": "395aed2b-bbc7-44ec-ab46-aca9b5f4c784",
   "metadata": {},
   "outputs": [
    {
     "name": "stderr",
     "output_type": "stream",
     "text": [
      "/home/leohmelo/venv/lib/python3.10/site-packages/numpy/core/getlimits.py:499: UserWarning: The value of the smallest subnormal for <class 'numpy.float64'> type is zero.\n",
      "  setattr(self, word, getattr(machar, word).flat[0])\n",
      "/home/leohmelo/venv/lib/python3.10/site-packages/numpy/core/getlimits.py:89: UserWarning: The value of the smallest subnormal for <class 'numpy.float64'> type is zero.\n",
      "  return self._float_to_str(self.smallest_subnormal)\n",
      "/home/leohmelo/venv/lib/python3.10/site-packages/numpy/core/getlimits.py:499: UserWarning: The value of the smallest subnormal for <class 'numpy.float32'> type is zero.\n",
      "  setattr(self, word, getattr(machar, word).flat[0])\n",
      "/home/leohmelo/venv/lib/python3.10/site-packages/numpy/core/getlimits.py:89: UserWarning: The value of the smallest subnormal for <class 'numpy.float32'> type is zero.\n",
      "  return self._float_to_str(self.smallest_subnormal)\n"
     ]
    }
   ],
   "source": [
    "import random \n",
    "import efc as efc\n",
    "import numpy as np\n",
    "import pandas as pd\n",
    "import seaborn as sns\n",
    "\n",
    "from efc import EnergyBasedFlowClassifier\n",
    "from matplotlib import pyplot as plt\n",
    "from os import listdir\n",
    "from os.path import isfile, join\n",
    "from sklearn.metrics import classification_report\n",
    "from sklearn.metrics import f1_score\n",
    "from sklearn.metrics import confusion_matrix \n",
    "from sklearn.model_selection import train_test_split\n",
    "from sklearn.preprocessing import StandardScaler\n",
    "from sklearn.utils import resample\n",
    "from sklearn.linear_model import LogisticRegression, SGDClassifier\n",
    "from sklearn.svm import LinearSVC\n",
    "from sklearn.preprocessing import StandardScaler\n",
    "from sklearn.model_selection import StratifiedKFold, GridSearchCV, train_test_split\n",
    "from sklearn.utils.class_weight import compute_sample_weight, compute_class_weight\n",
    "\n",
    "verbose = False\n",
    "%matplotlib inline"
   ]
  },
  {
   "cell_type": "code",
   "execution_count": 2,
   "id": "7f6f3005-6053-417b-a948-41033f862e38",
   "metadata": {},
   "outputs": [],
   "source": [
    "silos_path = \"./datasets/silos/\"\n",
    "silos_files = [f for f in listdir(silos_path) if isfile(join(silos_path, f))]\n",
    "\n",
    "silos = {}\n",
    "for silo in silos_files:\n",
    "    silo_name = silo.replace(\".csv.gz\", \"\")\n",
    "    silos[silo_name] = pd.read_csv(silos_path + silo)\n",
    "    \n",
    "    if(verbose):\n",
    "        print(f\"{silo_name} >>> \\n{silos[silo_name]['Label'].value_counts()}\")"
   ]
  },
  {
   "cell_type": "code",
   "execution_count": 3,
   "id": "3bcd2bc5-a076-4042-9f1f-3f3d214ec4b1",
   "metadata": {},
   "outputs": [],
   "source": [
    "def preprocess(X):\n",
    "    cols = X.select_dtypes(include=[np.float64]).columns\n",
    "    X[cols] = X[cols].astype(np.float32)\n",
    "\n",
    "    X.fillna(0, inplace=True)\n",
    "    X.replace(np.inf, 9999, inplace=True)\n",
    "    \n",
    "    return X"
   ]
  },
  {
   "cell_type": "code",
   "execution_count": 4,
   "id": "f735e443-d5ce-4a6c-894c-662fcf6c773a",
   "metadata": {},
   "outputs": [],
   "source": [
    "def average(lst):\n",
    "    return sum(lst) / len(lst)"
   ]
  },
  {
   "cell_type": "code",
   "execution_count": 5,
   "id": "45d2caaf-a819-478e-881f-044d5576b03d",
   "metadata": {},
   "outputs": [],
   "source": [
    "balanced = True \n",
    "def rebalance_agent(agent):\n",
    "    agent_label_count = agent[\"Label\"].value_counts().to_dict()\n",
    "    benign_count = agent_label_count[0] \n",
    "    malicious_count = agent_label_count[1]\n",
    "    \n",
    "    if(balanced):\n",
    "        if (benign_count > malicious_count):\n",
    "            downsampled_0 = resample(\n",
    "                                agent[agent.Label == 0], \n",
    "                                replace=False, \n",
    "                                n_samples=agent[agent.Label == 1].shape[0],\n",
    "                                random_state=1337\n",
    "                            )\n",
    "            agent_balanced = pd.concat([downsampled_0, agent[agent.Label == 1]])\n",
    "        elif (benign_count < malicious_count): \n",
    "            downsampled_1 = resample(\n",
    "                                agent[agent.Label == 1], \n",
    "                                replace=False, \n",
    "                                n_samples=agent[agent.Label == 0].shape[0], \n",
    "                                random_state=1337\n",
    "                            )\n",
    "            agent_balanced = pd.concat([downsampled_1, agent[agent.Label == 0]])\n",
    "        else:\n",
    "            agent_balanced = agent\n",
    "    else:\n",
    "        agent_balanced = agent\n",
    "    \n",
    "    return agent_balanced"
   ]
  },
  {
   "cell_type": "code",
   "execution_count": 6,
   "id": "21e76f5b-9ed3-4712-87d4-1a9c04be573e",
   "metadata": {
    "tags": []
   },
   "outputs": [],
   "source": [
    "features_to_delete = [\n",
    "     'DST_TO_SRC_SECOND_BYTES',\n",
    "     'FTP_COMMAND_RET_CODE',\n",
    "     'RETRANSMITTED_IN_PKTS',\n",
    "     'RETRANSMITTED_IN_BYTES',\n",
    "     'DNS_TTL_ANSWER',\n",
    "     'SERVER_TCP_FLAGS',\n",
    "     'DNS_QUERY_TYPE',\n",
    "     'DNS_QUERY_ID',\n",
    "     'SRC_TO_DST_SECOND_BYTES',\n",
    "     'Unnamed: 0',\n",
    "     'SRC_TO_DST_AVG_THROUGHPUT',\n",
    "     'MIN_TTL',\n",
    "     'SHORTEST_FLOW_PKT',\n",
    "     'IN_BYTES',\n",
    "     'MAX_TTL',\n",
    "     'LONGEST_FLOW_PKT',\n",
    "     'MAX_IP_PKT_LEN',\n",
    "     'RETRANSMITTED_OUT_PKTS',\n",
    "     'NUM_PKTS_128_TO_256_BYTES',\n",
    "     'OUT_PKTS',\n",
    "     'RETRANSMITTED_OUT_BYTES',\n",
    "     'MIN_IP_PKT_LEN',\n",
    "     'NUM_PKTS_256_TO_512_BYTES',\n",
    "     'DURATION_IN',\n",
    "     'Label'\n",
    "]"
   ]
  },
  {
   "cell_type": "code",
   "execution_count": 7,
   "id": "03410221-017d-4840-a451-d3b7b030ee6a",
   "metadata": {
    "tags": []
   },
   "outputs": [
    {
     "name": "stdout",
     "output_type": "stream",
     "text": [
      "0    658\n",
      "1    658\n",
      "Name: Label, dtype: int64\n",
      "agent18 | cutoff = 318.23970743752943 \n",
      "-------------------------------------------------------------------\n",
      "               precision    recall  f1-score   support\n",
      "\n",
      "           0       0.97      0.93      0.95      6157\n",
      "           1       0.16      0.31      0.21       282\n",
      "\n",
      "    accuracy                           0.90      6439\n",
      "   macro avg       0.56      0.62      0.58      6439\n",
      "weighted avg       0.93      0.90      0.91      6439\n",
      "\n"
     ]
    },
    {
     "data": {
      "image/png": "[encoded data removed]",
      "text/plain": [
       "<Figure size 432x288 with 1 Axes>"
      ]
     },
     "metadata": {
      "needs_background": "light"
     },
     "output_type": "display_data"
    },
    {
     "name": "stdout",
     "output_type": "stream",
     "text": [
      "1    933\n",
      "0    933\n",
      "Name: Label, dtype: int64\n",
      "agent11 | cutoff = 319.5508486984386 \n",
      "-------------------------------------------------------------------\n",
      "               precision    recall  f1-score   support\n",
      "\n",
      "           0       0.50      0.94      0.65       400\n",
      "           1       1.00      1.00      1.00     92190\n",
      "\n",
      "    accuracy                           1.00     92590\n",
      "   macro avg       0.75      0.97      0.82     92590\n",
      "weighted avg       1.00      1.00      1.00     92590\n",
      "\n"
     ]
    },
    {
     "data": {
      "image/png": "[encoded data removed]",
      "text/plain": [
       "<Figure size 432x288 with 1 Axes>"
      ]
     },
     "metadata": {
      "needs_background": "light"
     },
     "output_type": "display_data"
    },
    {
     "name": "stdout",
     "output_type": "stream",
     "text": [
      "0    26712\n",
      "1    26712\n",
      "Name: Label, dtype: int64\n",
      "agent8 | cutoff = 319.3490519539169 \n",
      "-------------------------------------------------------------------\n",
      "               precision    recall  f1-score   support\n",
      "\n",
      "           0       0.84      0.95      0.89     19195\n",
      "           1       0.89      0.70      0.79     11448\n",
      "\n",
      "    accuracy                           0.86     30643\n",
      "   macro avg       0.87      0.83      0.84     30643\n",
      "weighted avg       0.86      0.86      0.85     30643\n",
      "\n"
     ]
    },
    {
     "data": {
      "image/png": "[encoded data removed]",
      "text/plain": [
       "<Figure size 432x288 with 1 Axes>"
      ]
     },
     "metadata": {
      "needs_background": "light"
     },
     "output_type": "display_data"
    },
    {
     "name": "stdout",
     "output_type": "stream",
     "text": [
      "0    169\n",
      "1    169\n",
      "Name: Label, dtype: int64\n",
      "agent7 | cutoff = 302.546258041324 \n",
      "-------------------------------------------------------------------\n",
      "               precision    recall  f1-score   support\n",
      "\n",
      "           0       1.00      0.93      0.96    101072\n",
      "           1       0.01      1.00      0.02        73\n",
      "\n",
      "    accuracy                           0.93    101145\n",
      "   macro avg       0.51      0.96      0.49    101145\n",
      "weighted avg       1.00      0.93      0.96    101145\n",
      "\n"
     ]
    },
    {
     "data": {
      "image/png": "[encoded data removed]",
      "text/plain": [
       "<Figure size 432x288 with 1 Axes>"
      ]
     },
     "metadata": {
      "needs_background": "light"
     },
     "output_type": "display_data"
    },
    {
     "name": "stdout",
     "output_type": "stream",
     "text": [
      "0    63870\n",
      "1    63870\n",
      "Name: Label, dtype: int64\n",
      "agent5 | cutoff = 327.2825375042782 \n",
      "-------------------------------------------------------------------\n",
      "               precision    recall  f1-score   support\n",
      "\n",
      "           0       1.00      0.95      0.97    187168\n",
      "           1       0.74      1.00      0.85     27373\n",
      "\n",
      "    accuracy                           0.95    214541\n",
      "   macro avg       0.87      0.97      0.91    214541\n",
      "weighted avg       0.97      0.95      0.96    214541\n",
      "\n"
     ]
    },
    {
     "data": {
      "image/png": "[encoded data removed]",
      "text/plain": [
       "<Figure size 432x288 with 1 Axes>"
      ]
     },
     "metadata": {
      "needs_background": "light"
     },
     "output_type": "display_data"
    },
    {
     "name": "stdout",
     "output_type": "stream",
     "text": [
      "0    749\n",
      "1    749\n",
      "Name: Label, dtype: int64\n",
      "agent19 | cutoff = 329.70525078372407 \n",
      "-------------------------------------------------------------------\n",
      "               precision    recall  f1-score   support\n",
      "\n",
      "           0       0.96      0.93      0.94      5779\n",
      "           1       0.17      0.28      0.21       321\n",
      "\n",
      "    accuracy                           0.89      6100\n",
      "   macro avg       0.57      0.60      0.58      6100\n",
      "weighted avg       0.92      0.89      0.90      6100\n",
      "\n"
     ]
    },
    {
     "data": {
      "image/png": "[encoded data removed]",
      "text/plain": [
       "<Figure size 432x288 with 1 Axes>"
      ]
     },
     "metadata": {
      "needs_background": "light"
     },
     "output_type": "display_data"
    },
    {
     "name": "stdout",
     "output_type": "stream",
     "text": [
      "0    720\n",
      "1    720\n",
      "Name: Label, dtype: int64\n",
      "agent16 | cutoff = 324.4376823773045 \n",
      "-------------------------------------------------------------------\n",
      "               precision    recall  f1-score   support\n",
      "\n",
      "           0       0.97      0.94      0.95      7114\n",
      "           1       0.19      0.34      0.25       308\n",
      "\n",
      "    accuracy                           0.91      7422\n",
      "   macro avg       0.58      0.64      0.60      7422\n",
      "weighted avg       0.94      0.91      0.92      7422\n",
      "\n"
     ]
    },
    {
     "data": {
      "image/png": "[encoded data removed]",
      "text/plain": [
       "<Figure size 432x288 with 1 Axes>"
      ]
     },
     "metadata": {
      "needs_background": "light"
     },
     "output_type": "display_data"
    },
    {
     "name": "stdout",
     "output_type": "stream",
     "text": [
      "1    2588\n",
      "0    2588\n",
      "Name: Label, dtype: int64\n",
      "agent13 | cutoff = 318.5952762710046 \n",
      "-------------------------------------------------------------------\n",
      "               precision    recall  f1-score   support\n",
      "\n",
      "           0       0.16      0.95      0.27      1109\n",
      "           1       1.00      1.00      1.00   1292659\n",
      "\n",
      "    accuracy                           1.00   1293768\n",
      "   macro avg       0.58      0.97      0.63   1293768\n",
      "weighted avg       1.00      1.00      1.00   1293768\n",
      "\n"
     ]
    },
    {
     "data": {
      "image/png": "[encoded data removed]",
      "text/plain": [
       "<Figure size 432x288 with 1 Axes>"
      ]
     },
     "metadata": {
      "needs_background": "light"
     },
     "output_type": "display_data"
    },
    {
     "name": "stdout",
     "output_type": "stream",
     "text": [
      "1    997\n",
      "0    997\n",
      "Name: Label, dtype: int64\n",
      "agent9 | cutoff = 303.66008833293887 \n",
      "-------------------------------------------------------------------\n",
      "               precision    recall  f1-score   support\n",
      "\n",
      "           0       1.00      0.91      0.95       427\n",
      "           1       0.96      1.00      0.98       852\n",
      "\n",
      "    accuracy                           0.97      1279\n",
      "   macro avg       0.98      0.95      0.96      1279\n",
      "weighted avg       0.97      0.97      0.97      1279\n",
      "\n"
     ]
    },
    {
     "data": {
      "image/png": "[encoded data removed]",
      "text/plain": [
       "<Figure size 432x288 with 1 Axes>"
      ]
     },
     "metadata": {
      "needs_background": "light"
     },
     "output_type": "display_data"
    },
    {
     "name": "stdout",
     "output_type": "stream",
     "text": [
      "1    3329\n",
      "0    3329\n",
      "Name: Label, dtype: int64\n",
      "agent10 | cutoff = 325.4594638977271 \n",
      "-------------------------------------------------------------------\n",
      "               precision    recall  f1-score   support\n",
      "\n",
      "           0       0.69      0.95      0.80      1427\n",
      "           1       1.00      1.00      1.00    324891\n",
      "\n",
      "    accuracy                           1.00    326318\n",
      "   macro avg       0.84      0.98      0.90    326318\n",
      "weighted avg       1.00      1.00      1.00    326318\n",
      "\n"
     ]
    },
    {
     "data": {
      "image/png": "[encoded data removed]",
      "text/plain": [
       "<Figure size 432x288 with 1 Axes>"
      ]
     },
     "metadata": {
      "needs_background": "light"
     },
     "output_type": "display_data"
    },
    {
     "name": "stdout",
     "output_type": "stream",
     "text": [
      "1    2232\n",
      "0    2232\n",
      "Name: Label, dtype: int64\n",
      "agent15 | cutoff = 326.4998278301405 \n",
      "-------------------------------------------------------------------\n",
      "               precision    recall  f1-score   support\n",
      "\n",
      "           0       0.07      0.94      0.13       956\n",
      "           1       1.00      0.98      0.99    711539\n",
      "\n",
      "    accuracy                           0.98    712495\n",
      "   macro avg       0.54      0.96      0.56    712495\n",
      "weighted avg       1.00      0.98      0.99    712495\n",
      "\n"
     ]
    },
    {
     "data": {
      "image/png": "[encoded data removed]",
      "text/plain": [
       "<Figure size 432x288 with 1 Axes>"
      ]
     },
     "metadata": {
      "needs_background": "light"
     },
     "output_type": "display_data"
    },
    {
     "name": "stdout",
     "output_type": "stream",
     "text": [
      "0    66733\n",
      "1    66733\n",
      "Name: Label, dtype: int64\n",
      "agent6 | cutoff = 298.55616883940684 \n",
      "-------------------------------------------------------------------\n",
      "               precision    recall  f1-score   support\n",
      "\n",
      "           0       1.00      0.95      0.97     84614\n",
      "           1       0.86      1.00      0.93     28600\n",
      "\n",
      "    accuracy                           0.96    113214\n",
      "   macro avg       0.93      0.97      0.95    113214\n",
      "weighted avg       0.97      0.96      0.96    113214\n",
      "\n"
     ]
    },
    {
     "data": {
      "image/png": "[encoded data removed]",
      "text/plain": [
       "<Figure size 432x288 with 1 Axes>"
      ]
     },
     "metadata": {
      "needs_background": "light"
     },
     "output_type": "display_data"
    },
    {
     "name": "stdout",
     "output_type": "stream",
     "text": [
      "1    2700\n",
      "0    2700\n",
      "Name: Label, dtype: int64\n",
      "agent14 | cutoff = 304.41106205334336 \n",
      "-------------------------------------------------------------------\n",
      "               precision    recall  f1-score   support\n",
      "\n",
      "           0       0.08      0.94      0.14      1157\n",
      "           1       1.00      0.98      0.99    849477\n",
      "\n",
      "    accuracy                           0.98    850634\n",
      "   macro avg       0.54      0.96      0.57    850634\n",
      "weighted avg       1.00      0.98      0.99    850634\n",
      "\n"
     ]
    },
    {
     "data": {
      "image/png": "[encoded data removed]",
      "text/plain": [
       "<Figure size 432x288 with 1 Axes>"
      ]
     },
     "metadata": {
      "needs_background": "light"
     },
     "output_type": "display_data"
    },
    {
     "name": "stdout",
     "output_type": "stream",
     "text": [
      "0    761\n",
      "1    761\n",
      "Name: Label, dtype: int64\n",
      "agent17 | cutoff = 318.2938990791466 \n",
      "-------------------------------------------------------------------\n",
      "               precision    recall  f1-score   support\n",
      "\n",
      "           0       0.96      0.93      0.95      6319\n",
      "           1       0.15      0.22      0.18       326\n",
      "\n",
      "    accuracy                           0.90      6645\n",
      "   macro avg       0.55      0.58      0.56      6645\n",
      "weighted avg       0.92      0.90      0.91      6645\n",
      "\n"
     ]
    },
    {
     "data": {
      "image/png": "[encoded data removed]",
      "text/plain": [
       "<Figure size 432x288 with 1 Axes>"
      ]
     },
     "metadata": {
      "needs_background": "light"
     },
     "output_type": "display_data"
    },
    {
     "name": "stdout",
     "output_type": "stream",
     "text": [
      "1    207863\n",
      "0    207863\n",
      "Name: Label, dtype: int64\n",
      "agent3 | cutoff = 324.2093071980253 \n",
      "-------------------------------------------------------------------\n",
      "               precision    recall  f1-score   support\n",
      "\n",
      "           0       1.00      0.95      0.97     89084\n",
      "           1       0.95      1.00      0.98     91792\n",
      "\n",
      "    accuracy                           0.98    180876\n",
      "   macro avg       0.98      0.97      0.98    180876\n",
      "weighted avg       0.98      0.98      0.98    180876\n",
      "\n"
     ]
    },
    {
     "data": {
      "image/png": "[encoded data removed]",
      "text/plain": [
       "<Figure size 432x288 with 1 Axes>"
      ]
     },
     "metadata": {
      "needs_background": "light"
     },
     "output_type": "display_data"
    },
    {
     "name": "stdout",
     "output_type": "stream",
     "text": [
      "1    45436\n",
      "0    45436\n",
      "Name: Label, dtype: int64\n",
      "agent1 | cutoff = 376.92564477070675 \n",
      "-------------------------------------------------------------------\n",
      "               precision    recall  f1-score   support\n",
      "\n",
      "           0       0.76      0.95      0.85     19473\n",
      "           1       1.00      0.99      0.99    445716\n",
      "\n",
      "    accuracy                           0.99    465189\n",
      "   macro avg       0.88      0.97      0.92    465189\n",
      "weighted avg       0.99      0.99      0.99    465189\n",
      "\n"
     ]
    },
    {
     "data": {
      "image/png": "[encoded data removed]",
      "text/plain": [
       "<Figure size 432x288 with 1 Axes>"
      ]
     },
     "metadata": {
      "needs_background": "light"
     },
     "output_type": "display_data"
    },
    {
     "name": "stdout",
     "output_type": "stream",
     "text": [
      "0    146\n",
      "1    146\n",
      "Name: Label, dtype: int64\n",
      "agent2 | cutoff = 316.5126054810896 \n",
      "-------------------------------------------------------------------\n",
      "               precision    recall  f1-score   support\n",
      "\n",
      "           0       1.00      0.86      0.93    216473\n",
      "           1       0.00      1.00      0.00        62\n",
      "\n",
      "    accuracy                           0.86    216535\n",
      "   macro avg       0.50      0.93      0.47    216535\n",
      "weighted avg       1.00      0.86      0.93    216535\n",
      "\n"
     ]
    },
    {
     "data": {
      "image/png": "[encoded data removed]",
      "text/plain": [
       "<Figure size 432x288 with 1 Axes>"
      ]
     },
     "metadata": {
      "needs_background": "light"
     },
     "output_type": "display_data"
    },
    {
     "name": "stdout",
     "output_type": "stream",
     "text": [
      "0    3631\n",
      "1    3631\n",
      "Name: Label, dtype: int64\n",
      "agent4 | cutoff = 313.62784199048156 \n",
      "-------------------------------------------------------------------\n",
      "               precision    recall  f1-score   support\n",
      "\n",
      "           0       1.00      0.95      0.97    186216\n",
      "           1       0.15      1.00      0.25      1556\n",
      "\n",
      "    accuracy                           0.95    187772\n",
      "   macro avg       0.57      0.97      0.61    187772\n",
      "weighted avg       0.99      0.95      0.97    187772\n",
      "\n"
     ]
    },
    {
     "data": {
      "image/png": "[encoded data removed]",
      "text/plain": [
       "<Figure size 432x288 with 1 Axes>"
      ]
     },
     "metadata": {
      "needs_background": "light"
     },
     "output_type": "display_data"
    },
    {
     "name": "stdout",
     "output_type": "stream",
     "text": [
      "1    21778\n",
      "0    21778\n",
      "Name: Label, dtype: int64\n",
      "agent12 | cutoff = 324.0699013562604 \n",
      "-------------------------------------------------------------------\n",
      "               precision    recall  f1-score   support\n",
      "\n",
      "           0       0.22      0.94      0.36      9333\n",
      "           1       1.00      0.99      0.99   2644645\n",
      "\n",
      "    accuracy                           0.99   2653978\n",
      "   macro avg       0.61      0.97      0.68   2653978\n",
      "weighted avg       1.00      0.99      0.99   2653978\n",
      "\n"
     ]
    },
    {
     "data": {
      "image/png": "[encoded data removed]",
      "text/plain": [
       "<Figure size 432x288 with 1 Axes>"
      ]
     },
     "metadata": {
      "needs_background": "light"
     },
     "output_type": "display_data"
    }
   ],
   "source": [
    "siloed_feat_efc = {}\n",
    "\n",
    "for key, silo in silos.items():\n",
    "    \n",
    "    X = silo.drop(columns=features_to_delete).copy()\n",
    "    X = preprocess(X)\n",
    "    y = silo[\"Label\"].copy()\n",
    "    \n",
    "    X_train, X_test, y_train, y_test = train_test_split(\n",
    "        X, y, random_state=42, stratify=y, shuffle=True, test_size=0.3\n",
    "    )\n",
    "    \n",
    "    X_train[\"Label\"] = y_train \n",
    "    X_train = rebalance_agent(X_train) \n",
    "    y_train = X_train[\"Label\"] \n",
    "    X_train = X_train.drop(columns=\"Label\").copy() \n",
    "    \n",
    "    # train and test EFC\n",
    "    clf = EnergyBasedFlowClassifier(cutoff_quantile=0.95)\n",
    "    print(y_train.value_counts())\n",
    "    clf.fit(X_train, y_train)\n",
    "    \n",
    "    siloed_feat_efc[key] = clf\n",
    "    \n",
    "    y_pred, y_energies = clf.predict(X_test, return_energies=True)\n",
    "    \n",
    "    print(key, \"| cutoff =\", clf.estimators_[0].cutoff_, \"\\n-------------------------------------------------------------------\\n\", classification_report(y_test, y_pred))\n",
    "    \n",
    "    # ploting energies\n",
    "    benign = np.where(y_test == 0)[0]\n",
    "    malicious = np.where(y_test == 1)[0]\n",
    "\n",
    "    benign_energies = y_energies[benign]\n",
    "    malicious_energies = y_energies[malicious]\n",
    "    cutoff = clf.estimators_[0].cutoff_\n",
    "\n",
    "    bins = np.histogram(y_energies, bins=60)[1]\n",
    "\n",
    "    plt.hist(\n",
    "        malicious_energies,\n",
    "        bins,\n",
    "        facecolor=\"#006680\",\n",
    "        alpha=0.7,\n",
    "        ec=\"white\",\n",
    "        linewidth=0.3,\n",
    "        label=\"malicious\",\n",
    "    )\n",
    "    plt.hist(\n",
    "        benign_energies,\n",
    "        bins,\n",
    "        facecolor=\"#b3b3b3\",\n",
    "        alpha=0.7,\n",
    "        ec=\"white\",\n",
    "        linewidth=0.3,\n",
    "        label=\"benign\",\n",
    "    )\n",
    "    plt.axvline(cutoff, color=\"r\", linestyle=\"dashed\", linewidth=1)\n",
    "    plt.legend()\n",
    "\n",
    "    plt.xlabel(\"Energy\", fontsize=12)\n",
    "    plt.ylabel(\"Density\", fontsize=12)\n",
    "\n",
    "    plt.show()\n",
    "    "
   ]
  },
  {
   "cell_type": "code",
   "execution_count": null,
   "id": "187edebd-904a-487c-9683-46d7a0b92c5f",
   "metadata": {
    "tags": []
   },
   "outputs": [
    {
     "name": "stdout",
     "output_type": "stream",
     "text": [
      "agent18 >>> \n",
      "[[ 799947  143526]\n",
      " [ 399129 6124981]]\n",
      "agent11 >>> \n",
      "[[ 847245   96228]\n",
      " [5005973 1518137]]\n",
      "agent8 >>> \n",
      "[[ 851589   91884]\n",
      " [5581175  942935]]\n",
      "agent7 >>> \n",
      "[[ 729902  213571]\n",
      " [     10 6524100]]\n",
      "agent5 >>> \n",
      "[[ 826706  116767]\n",
      " [4075524 2448586]]\n",
      "agent19 >>> \n",
      "[[ 336596  606877]\n",
      " [ 361402 6162708]]\n"
     ]
    },
    {
     "ename": "KeyboardInterrupt",
     "evalue": "",
     "output_type": "error",
     "traceback": [
      "\u001b[0;31m---------------------------------------------------------------------------\u001b[0m",
      "\u001b[0;31mKeyboardInterrupt\u001b[0m                         Traceback (most recent call last)",
      "Input \u001b[0;32mIn [8]\u001b[0m, in \u001b[0;36m<cell line: 5>\u001b[0;34m()\u001b[0m\n\u001b[1;32m     17\u001b[0m y \u001b[38;5;241m=\u001b[39m silo[\u001b[38;5;124m\"\u001b[39m\u001b[38;5;124mLabel\u001b[39m\u001b[38;5;124m\"\u001b[39m]\u001b[38;5;241m.\u001b[39mcopy()\n\u001b[1;32m     19\u001b[0m X_train, X_test, y_train, y_test \u001b[38;5;241m=\u001b[39m train_test_split(\n\u001b[1;32m     20\u001b[0m     X, y, random_state\u001b[38;5;241m=\u001b[39m\u001b[38;5;241m42\u001b[39m, stratify\u001b[38;5;241m=\u001b[39my, shuffle\u001b[38;5;241m=\u001b[39m\u001b[38;5;28;01mTrue\u001b[39;00m, test_size\u001b[38;5;241m=\u001b[39m\u001b[38;5;241m0.3\u001b[39m\n\u001b[1;32m     21\u001b[0m )\n\u001b[0;32m---> 23\u001b[0m y_pred \u001b[38;5;241m=\u001b[39m \u001b[43mmodel\u001b[49m\u001b[38;5;241;43m.\u001b[39;49m\u001b[43mpredict\u001b[49m\u001b[43m(\u001b[49m\u001b[43mX_test\u001b[49m\u001b[43m)\u001b[49m\n\u001b[1;32m     24\u001b[0m score \u001b[38;5;241m=\u001b[39m f1_score(y_test, y_pred)\n\u001b[1;32m     26\u001b[0m silos_y_test \u001b[38;5;241m=\u001b[39m np\u001b[38;5;241m.\u001b[39mconcatenate((silos_y_test, y_test), axis\u001b[38;5;241m=\u001b[39m\u001b[38;5;28;01mNone\u001b[39;00m)\n",
      "File \u001b[0;32m~/venv/lib/python3.10/site-packages/efc/_energyclassifier.py:197\u001b[0m, in \u001b[0;36mEnergyBasedFlowClassifier.predict\u001b[0;34m(self, X, return_energies, unknown_class)\u001b[0m\n\u001b[1;32m    195\u001b[0m \u001b[38;5;28;01mwith\u001b[39;00m warnings\u001b[38;5;241m.\u001b[39mcatch_warnings():\n\u001b[1;32m    196\u001b[0m     warnings\u001b[38;5;241m.\u001b[39msimplefilter(\u001b[38;5;124m\"\u001b[39m\u001b[38;5;124mignore\u001b[39m\u001b[38;5;124m\"\u001b[39m, category\u001b[38;5;241m=\u001b[39m\u001b[38;5;167;01mUserWarning\u001b[39;00m)\n\u001b[0;32m--> 197\u001b[0m     X \u001b[38;5;241m=\u001b[39m \u001b[38;5;28;43mself\u001b[39;49m\u001b[38;5;241;43m.\u001b[39;49m\u001b[43mpreprocessor_\u001b[49m\u001b[38;5;241;43m.\u001b[39;49m\u001b[43mtransform\u001b[49m\u001b[43m(\u001b[49m\u001b[43mX\u001b[49m\u001b[43m)\u001b[49m\u001b[38;5;241m.\u001b[39mastype(\u001b[38;5;124m\"\u001b[39m\u001b[38;5;124mint64\u001b[39m\u001b[38;5;124m\"\u001b[39m)\n\u001b[1;32m    199\u001b[0m energies \u001b[38;5;241m=\u001b[39m np\u001b[38;5;241m.\u001b[39marray(\n\u001b[1;32m    200\u001b[0m     Parallel(n_jobs\u001b[38;5;241m=\u001b[39m\u001b[38;5;28mself\u001b[39m\u001b[38;5;241m.\u001b[39mn_jobs)(\n\u001b[1;32m    201\u001b[0m         delayed(estimator\u001b[38;5;241m.\u001b[39m_compute_energy)(X) \u001b[38;5;28;01mfor\u001b[39;00m estimator \u001b[38;5;129;01min\u001b[39;00m \u001b[38;5;28mself\u001b[39m\u001b[38;5;241m.\u001b[39mestimators_\n\u001b[1;32m    202\u001b[0m     )\n\u001b[1;32m    203\u001b[0m )\n\u001b[1;32m    205\u001b[0m y_energies \u001b[38;5;241m=\u001b[39m np\u001b[38;5;241m.\u001b[39mempty(X\u001b[38;5;241m.\u001b[39mshape[\u001b[38;5;241m0\u001b[39m], dtype\u001b[38;5;241m=\u001b[39m\u001b[38;5;124m\"\u001b[39m\u001b[38;5;124mfloat64\u001b[39m\u001b[38;5;124m\"\u001b[39m)\n",
      "File \u001b[0;32m~/venv/lib/python3.10/site-packages/sklearn/compose/_column_transformer.py:748\u001b[0m, in \u001b[0;36mColumnTransformer.transform\u001b[0;34m(self, X)\u001b[0m\n\u001b[1;32m    743\u001b[0m \u001b[38;5;28;01melse\u001b[39;00m:\n\u001b[1;32m    744\u001b[0m     \u001b[38;5;66;03m# ndarray was used for fitting or transforming, thus we only\u001b[39;00m\n\u001b[1;32m    745\u001b[0m     \u001b[38;5;66;03m# check that n_features_in_ is consistent\u001b[39;00m\n\u001b[1;32m    746\u001b[0m     \u001b[38;5;28mself\u001b[39m\u001b[38;5;241m.\u001b[39m_check_n_features(X, reset\u001b[38;5;241m=\u001b[39m\u001b[38;5;28;01mFalse\u001b[39;00m)\n\u001b[0;32m--> 748\u001b[0m Xs \u001b[38;5;241m=\u001b[39m \u001b[38;5;28;43mself\u001b[39;49m\u001b[38;5;241;43m.\u001b[39;49m\u001b[43m_fit_transform\u001b[49m\u001b[43m(\u001b[49m\n\u001b[1;32m    749\u001b[0m \u001b[43m    \u001b[49m\u001b[43mX\u001b[49m\u001b[43m,\u001b[49m\n\u001b[1;32m    750\u001b[0m \u001b[43m    \u001b[49m\u001b[38;5;28;43;01mNone\u001b[39;49;00m\u001b[43m,\u001b[49m\n\u001b[1;32m    751\u001b[0m \u001b[43m    \u001b[49m\u001b[43m_transform_one\u001b[49m\u001b[43m,\u001b[49m\n\u001b[1;32m    752\u001b[0m \u001b[43m    \u001b[49m\u001b[43mfitted\u001b[49m\u001b[38;5;241;43m=\u001b[39;49m\u001b[38;5;28;43;01mTrue\u001b[39;49;00m\u001b[43m,\u001b[49m\n\u001b[1;32m    753\u001b[0m \u001b[43m    \u001b[49m\u001b[43mcolumn_as_strings\u001b[49m\u001b[38;5;241;43m=\u001b[39;49m\u001b[43mfit_dataframe_and_transform_dataframe\u001b[49m\u001b[43m,\u001b[49m\n\u001b[1;32m    754\u001b[0m \u001b[43m\u001b[49m\u001b[43m)\u001b[49m\n\u001b[1;32m    755\u001b[0m \u001b[38;5;28mself\u001b[39m\u001b[38;5;241m.\u001b[39m_validate_output(Xs)\n\u001b[1;32m    757\u001b[0m \u001b[38;5;28;01mif\u001b[39;00m \u001b[38;5;129;01mnot\u001b[39;00m Xs:\n\u001b[1;32m    758\u001b[0m     \u001b[38;5;66;03m# All transformers are None\u001b[39;00m\n",
      "File \u001b[0;32m~/venv/lib/python3.10/site-packages/sklearn/compose/_column_transformer.py:606\u001b[0m, in \u001b[0;36mColumnTransformer._fit_transform\u001b[0;34m(self, X, y, func, fitted, column_as_strings)\u001b[0m\n\u001b[1;32m    600\u001b[0m transformers \u001b[38;5;241m=\u001b[39m \u001b[38;5;28mlist\u001b[39m(\n\u001b[1;32m    601\u001b[0m     \u001b[38;5;28mself\u001b[39m\u001b[38;5;241m.\u001b[39m_iter(\n\u001b[1;32m    602\u001b[0m         fitted\u001b[38;5;241m=\u001b[39mfitted, replace_strings\u001b[38;5;241m=\u001b[39m\u001b[38;5;28;01mTrue\u001b[39;00m, column_as_strings\u001b[38;5;241m=\u001b[39mcolumn_as_strings\n\u001b[1;32m    603\u001b[0m     )\n\u001b[1;32m    604\u001b[0m )\n\u001b[1;32m    605\u001b[0m \u001b[38;5;28;01mtry\u001b[39;00m:\n\u001b[0;32m--> 606\u001b[0m     \u001b[38;5;28;01mreturn\u001b[39;00m \u001b[43mParallel\u001b[49m\u001b[43m(\u001b[49m\u001b[43mn_jobs\u001b[49m\u001b[38;5;241;43m=\u001b[39;49m\u001b[38;5;28;43mself\u001b[39;49m\u001b[38;5;241;43m.\u001b[39;49m\u001b[43mn_jobs\u001b[49m\u001b[43m)\u001b[49m\u001b[43m(\u001b[49m\n\u001b[1;32m    607\u001b[0m \u001b[43m        \u001b[49m\u001b[43mdelayed\u001b[49m\u001b[43m(\u001b[49m\u001b[43mfunc\u001b[49m\u001b[43m)\u001b[49m\u001b[43m(\u001b[49m\n\u001b[1;32m    608\u001b[0m \u001b[43m            \u001b[49m\u001b[43mtransformer\u001b[49m\u001b[38;5;241;43m=\u001b[39;49m\u001b[43mclone\u001b[49m\u001b[43m(\u001b[49m\u001b[43mtrans\u001b[49m\u001b[43m)\u001b[49m\u001b[43m \u001b[49m\u001b[38;5;28;43;01mif\u001b[39;49;00m\u001b[43m \u001b[49m\u001b[38;5;129;43;01mnot\u001b[39;49;00m\u001b[43m \u001b[49m\u001b[43mfitted\u001b[49m\u001b[43m \u001b[49m\u001b[38;5;28;43;01melse\u001b[39;49;00m\u001b[43m \u001b[49m\u001b[43mtrans\u001b[49m\u001b[43m,\u001b[49m\n\u001b[1;32m    609\u001b[0m \u001b[43m            \u001b[49m\u001b[43mX\u001b[49m\u001b[38;5;241;43m=\u001b[39;49m\u001b[43m_safe_indexing\u001b[49m\u001b[43m(\u001b[49m\u001b[43mX\u001b[49m\u001b[43m,\u001b[49m\u001b[43m \u001b[49m\u001b[43mcolumn\u001b[49m\u001b[43m,\u001b[49m\u001b[43m \u001b[49m\u001b[43maxis\u001b[49m\u001b[38;5;241;43m=\u001b[39;49m\u001b[38;5;241;43m1\u001b[39;49m\u001b[43m)\u001b[49m\u001b[43m,\u001b[49m\n\u001b[1;32m    610\u001b[0m \u001b[43m            \u001b[49m\u001b[43my\u001b[49m\u001b[38;5;241;43m=\u001b[39;49m\u001b[43my\u001b[49m\u001b[43m,\u001b[49m\n\u001b[1;32m    611\u001b[0m \u001b[43m            \u001b[49m\u001b[43mweight\u001b[49m\u001b[38;5;241;43m=\u001b[39;49m\u001b[43mweight\u001b[49m\u001b[43m,\u001b[49m\n\u001b[1;32m    612\u001b[0m \u001b[43m            \u001b[49m\u001b[43mmessage_clsname\u001b[49m\u001b[38;5;241;43m=\u001b[39;49m\u001b[38;5;124;43m\"\u001b[39;49m\u001b[38;5;124;43mColumnTransformer\u001b[39;49m\u001b[38;5;124;43m\"\u001b[39;49m\u001b[43m,\u001b[49m\n\u001b[1;32m    613\u001b[0m \u001b[43m            \u001b[49m\u001b[43mmessage\u001b[49m\u001b[38;5;241;43m=\u001b[39;49m\u001b[38;5;28;43mself\u001b[39;49m\u001b[38;5;241;43m.\u001b[39;49m\u001b[43m_log_message\u001b[49m\u001b[43m(\u001b[49m\u001b[43mname\u001b[49m\u001b[43m,\u001b[49m\u001b[43m \u001b[49m\u001b[43midx\u001b[49m\u001b[43m,\u001b[49m\u001b[43m \u001b[49m\u001b[38;5;28;43mlen\u001b[39;49m\u001b[43m(\u001b[49m\u001b[43mtransformers\u001b[49m\u001b[43m)\u001b[49m\u001b[43m)\u001b[49m\u001b[43m,\u001b[49m\n\u001b[1;32m    614\u001b[0m \u001b[43m        \u001b[49m\u001b[43m)\u001b[49m\n\u001b[1;32m    615\u001b[0m \u001b[43m        \u001b[49m\u001b[38;5;28;43;01mfor\u001b[39;49;00m\u001b[43m \u001b[49m\u001b[43midx\u001b[49m\u001b[43m,\u001b[49m\u001b[43m \u001b[49m\u001b[43m(\u001b[49m\u001b[43mname\u001b[49m\u001b[43m,\u001b[49m\u001b[43m \u001b[49m\u001b[43mtrans\u001b[49m\u001b[43m,\u001b[49m\u001b[43m \u001b[49m\u001b[43mcolumn\u001b[49m\u001b[43m,\u001b[49m\u001b[43m \u001b[49m\u001b[43mweight\u001b[49m\u001b[43m)\u001b[49m\u001b[43m \u001b[49m\u001b[38;5;129;43;01min\u001b[39;49;00m\u001b[43m \u001b[49m\u001b[38;5;28;43menumerate\u001b[39;49m\u001b[43m(\u001b[49m\u001b[43mtransformers\u001b[49m\u001b[43m,\u001b[49m\u001b[43m \u001b[49m\u001b[38;5;241;43m1\u001b[39;49m\u001b[43m)\u001b[49m\n\u001b[1;32m    616\u001b[0m \u001b[43m    \u001b[49m\u001b[43m)\u001b[49m\n\u001b[1;32m    617\u001b[0m \u001b[38;5;28;01mexcept\u001b[39;00m \u001b[38;5;167;01mValueError\u001b[39;00m \u001b[38;5;28;01mas\u001b[39;00m e:\n\u001b[1;32m    618\u001b[0m     \u001b[38;5;28;01mif\u001b[39;00m \u001b[38;5;124m\"\u001b[39m\u001b[38;5;124mExpected 2D array, got 1D array instead\u001b[39m\u001b[38;5;124m\"\u001b[39m \u001b[38;5;129;01min\u001b[39;00m \u001b[38;5;28mstr\u001b[39m(e):\n",
      "File \u001b[0;32m~/venv/lib/python3.10/site-packages/joblib/parallel.py:1046\u001b[0m, in \u001b[0;36mParallel.__call__\u001b[0;34m(self, iterable)\u001b[0m\n\u001b[1;32m   1043\u001b[0m \u001b[38;5;28;01mif\u001b[39;00m \u001b[38;5;28mself\u001b[39m\u001b[38;5;241m.\u001b[39mdispatch_one_batch(iterator):\n\u001b[1;32m   1044\u001b[0m     \u001b[38;5;28mself\u001b[39m\u001b[38;5;241m.\u001b[39m_iterating \u001b[38;5;241m=\u001b[39m \u001b[38;5;28mself\u001b[39m\u001b[38;5;241m.\u001b[39m_original_iterator \u001b[38;5;129;01mis\u001b[39;00m \u001b[38;5;129;01mnot\u001b[39;00m \u001b[38;5;28;01mNone\u001b[39;00m\n\u001b[0;32m-> 1046\u001b[0m \u001b[38;5;28;01mwhile\u001b[39;00m \u001b[38;5;28;43mself\u001b[39;49m\u001b[38;5;241;43m.\u001b[39;49m\u001b[43mdispatch_one_batch\u001b[49m\u001b[43m(\u001b[49m\u001b[43miterator\u001b[49m\u001b[43m)\u001b[49m:\n\u001b[1;32m   1047\u001b[0m     \u001b[38;5;28;01mpass\u001b[39;00m\n\u001b[1;32m   1049\u001b[0m \u001b[38;5;28;01mif\u001b[39;00m pre_dispatch \u001b[38;5;241m==\u001b[39m \u001b[38;5;124m\"\u001b[39m\u001b[38;5;124mall\u001b[39m\u001b[38;5;124m\"\u001b[39m \u001b[38;5;129;01mor\u001b[39;00m n_jobs \u001b[38;5;241m==\u001b[39m \u001b[38;5;241m1\u001b[39m:\n\u001b[1;32m   1050\u001b[0m     \u001b[38;5;66;03m# The iterable was consumed all at once by the above for loop.\u001b[39;00m\n\u001b[1;32m   1051\u001b[0m     \u001b[38;5;66;03m# No need to wait for async callbacks to trigger to\u001b[39;00m\n\u001b[1;32m   1052\u001b[0m     \u001b[38;5;66;03m# consumption.\u001b[39;00m\n",
      "File \u001b[0;32m~/venv/lib/python3.10/site-packages/joblib/parallel.py:861\u001b[0m, in \u001b[0;36mParallel.dispatch_one_batch\u001b[0;34m(self, iterator)\u001b[0m\n\u001b[1;32m    859\u001b[0m     \u001b[38;5;28;01mreturn\u001b[39;00m \u001b[38;5;28;01mFalse\u001b[39;00m\n\u001b[1;32m    860\u001b[0m \u001b[38;5;28;01melse\u001b[39;00m:\n\u001b[0;32m--> 861\u001b[0m     \u001b[38;5;28;43mself\u001b[39;49m\u001b[38;5;241;43m.\u001b[39;49m\u001b[43m_dispatch\u001b[49m\u001b[43m(\u001b[49m\u001b[43mtasks\u001b[49m\u001b[43m)\u001b[49m\n\u001b[1;32m    862\u001b[0m     \u001b[38;5;28;01mreturn\u001b[39;00m \u001b[38;5;28;01mTrue\u001b[39;00m\n",
      "File \u001b[0;32m~/venv/lib/python3.10/site-packages/joblib/parallel.py:779\u001b[0m, in \u001b[0;36mParallel._dispatch\u001b[0;34m(self, batch)\u001b[0m\n\u001b[1;32m    777\u001b[0m \u001b[38;5;28;01mwith\u001b[39;00m \u001b[38;5;28mself\u001b[39m\u001b[38;5;241m.\u001b[39m_lock:\n\u001b[1;32m    778\u001b[0m     job_idx \u001b[38;5;241m=\u001b[39m \u001b[38;5;28mlen\u001b[39m(\u001b[38;5;28mself\u001b[39m\u001b[38;5;241m.\u001b[39m_jobs)\n\u001b[0;32m--> 779\u001b[0m     job \u001b[38;5;241m=\u001b[39m \u001b[38;5;28;43mself\u001b[39;49m\u001b[38;5;241;43m.\u001b[39;49m\u001b[43m_backend\u001b[49m\u001b[38;5;241;43m.\u001b[39;49m\u001b[43mapply_async\u001b[49m\u001b[43m(\u001b[49m\u001b[43mbatch\u001b[49m\u001b[43m,\u001b[49m\u001b[43m \u001b[49m\u001b[43mcallback\u001b[49m\u001b[38;5;241;43m=\u001b[39;49m\u001b[43mcb\u001b[49m\u001b[43m)\u001b[49m\n\u001b[1;32m    780\u001b[0m     \u001b[38;5;66;03m# A job can complete so quickly than its callback is\u001b[39;00m\n\u001b[1;32m    781\u001b[0m     \u001b[38;5;66;03m# called before we get here, causing self._jobs to\u001b[39;00m\n\u001b[1;32m    782\u001b[0m     \u001b[38;5;66;03m# grow. To ensure correct results ordering, .insert is\u001b[39;00m\n\u001b[1;32m    783\u001b[0m     \u001b[38;5;66;03m# used (rather than .append) in the following line\u001b[39;00m\n\u001b[1;32m    784\u001b[0m     \u001b[38;5;28mself\u001b[39m\u001b[38;5;241m.\u001b[39m_jobs\u001b[38;5;241m.\u001b[39minsert(job_idx, job)\n",
      "File \u001b[0;32m~/venv/lib/python3.10/site-packages/joblib/_parallel_backends.py:208\u001b[0m, in \u001b[0;36mSequentialBackend.apply_async\u001b[0;34m(self, func, callback)\u001b[0m\n\u001b[1;32m    206\u001b[0m \u001b[38;5;28;01mdef\u001b[39;00m \u001b[38;5;21mapply_async\u001b[39m(\u001b[38;5;28mself\u001b[39m, func, callback\u001b[38;5;241m=\u001b[39m\u001b[38;5;28;01mNone\u001b[39;00m):\n\u001b[1;32m    207\u001b[0m     \u001b[38;5;124;03m\"\"\"Schedule a func to be run\"\"\"\u001b[39;00m\n\u001b[0;32m--> 208\u001b[0m     result \u001b[38;5;241m=\u001b[39m \u001b[43mImmediateResult\u001b[49m\u001b[43m(\u001b[49m\u001b[43mfunc\u001b[49m\u001b[43m)\u001b[49m\n\u001b[1;32m    209\u001b[0m     \u001b[38;5;28;01mif\u001b[39;00m callback:\n\u001b[1;32m    210\u001b[0m         callback(result)\n",
      "File \u001b[0;32m~/venv/lib/python3.10/site-packages/joblib/_parallel_backends.py:572\u001b[0m, in \u001b[0;36mImmediateResult.__init__\u001b[0;34m(self, batch)\u001b[0m\n\u001b[1;32m    569\u001b[0m \u001b[38;5;28;01mdef\u001b[39;00m \u001b[38;5;21m__init__\u001b[39m(\u001b[38;5;28mself\u001b[39m, batch):\n\u001b[1;32m    570\u001b[0m     \u001b[38;5;66;03m# Don't delay the application, to avoid keeping the input\u001b[39;00m\n\u001b[1;32m    571\u001b[0m     \u001b[38;5;66;03m# arguments in memory\u001b[39;00m\n\u001b[0;32m--> 572\u001b[0m     \u001b[38;5;28mself\u001b[39m\u001b[38;5;241m.\u001b[39mresults \u001b[38;5;241m=\u001b[39m \u001b[43mbatch\u001b[49m\u001b[43m(\u001b[49m\u001b[43m)\u001b[49m\n",
      "File \u001b[0;32m~/venv/lib/python3.10/site-packages/joblib/parallel.py:262\u001b[0m, in \u001b[0;36mBatchedCalls.__call__\u001b[0;34m(self)\u001b[0m\n\u001b[1;32m    258\u001b[0m \u001b[38;5;28;01mdef\u001b[39;00m \u001b[38;5;21m__call__\u001b[39m(\u001b[38;5;28mself\u001b[39m):\n\u001b[1;32m    259\u001b[0m     \u001b[38;5;66;03m# Set the default nested backend to self._backend but do not set the\u001b[39;00m\n\u001b[1;32m    260\u001b[0m     \u001b[38;5;66;03m# change the default number of processes to -1\u001b[39;00m\n\u001b[1;32m    261\u001b[0m     \u001b[38;5;28;01mwith\u001b[39;00m parallel_backend(\u001b[38;5;28mself\u001b[39m\u001b[38;5;241m.\u001b[39m_backend, n_jobs\u001b[38;5;241m=\u001b[39m\u001b[38;5;28mself\u001b[39m\u001b[38;5;241m.\u001b[39m_n_jobs):\n\u001b[0;32m--> 262\u001b[0m         \u001b[38;5;28;01mreturn\u001b[39;00m [func(\u001b[38;5;241m*\u001b[39margs, \u001b[38;5;241m*\u001b[39m\u001b[38;5;241m*\u001b[39mkwargs)\n\u001b[1;32m    263\u001b[0m                 \u001b[38;5;28;01mfor\u001b[39;00m func, args, kwargs \u001b[38;5;129;01min\u001b[39;00m \u001b[38;5;28mself\u001b[39m\u001b[38;5;241m.\u001b[39mitems]\n",
      "File \u001b[0;32m~/venv/lib/python3.10/site-packages/joblib/parallel.py:262\u001b[0m, in \u001b[0;36m<listcomp>\u001b[0;34m(.0)\u001b[0m\n\u001b[1;32m    258\u001b[0m \u001b[38;5;28;01mdef\u001b[39;00m \u001b[38;5;21m__call__\u001b[39m(\u001b[38;5;28mself\u001b[39m):\n\u001b[1;32m    259\u001b[0m     \u001b[38;5;66;03m# Set the default nested backend to self._backend but do not set the\u001b[39;00m\n\u001b[1;32m    260\u001b[0m     \u001b[38;5;66;03m# change the default number of processes to -1\u001b[39;00m\n\u001b[1;32m    261\u001b[0m     \u001b[38;5;28;01mwith\u001b[39;00m parallel_backend(\u001b[38;5;28mself\u001b[39m\u001b[38;5;241m.\u001b[39m_backend, n_jobs\u001b[38;5;241m=\u001b[39m\u001b[38;5;28mself\u001b[39m\u001b[38;5;241m.\u001b[39m_n_jobs):\n\u001b[0;32m--> 262\u001b[0m         \u001b[38;5;28;01mreturn\u001b[39;00m [\u001b[43mfunc\u001b[49m\u001b[43m(\u001b[49m\u001b[38;5;241;43m*\u001b[39;49m\u001b[43margs\u001b[49m\u001b[43m,\u001b[49m\u001b[43m \u001b[49m\u001b[38;5;241;43m*\u001b[39;49m\u001b[38;5;241;43m*\u001b[39;49m\u001b[43mkwargs\u001b[49m\u001b[43m)\u001b[49m\n\u001b[1;32m    263\u001b[0m                 \u001b[38;5;28;01mfor\u001b[39;00m func, args, kwargs \u001b[38;5;129;01min\u001b[39;00m \u001b[38;5;28mself\u001b[39m\u001b[38;5;241m.\u001b[39mitems]\n",
      "File \u001b[0;32m~/venv/lib/python3.10/site-packages/sklearn/utils/fixes.py:216\u001b[0m, in \u001b[0;36m_FuncWrapper.__call__\u001b[0;34m(self, *args, **kwargs)\u001b[0m\n\u001b[1;32m    214\u001b[0m \u001b[38;5;28;01mdef\u001b[39;00m \u001b[38;5;21m__call__\u001b[39m(\u001b[38;5;28mself\u001b[39m, \u001b[38;5;241m*\u001b[39margs, \u001b[38;5;241m*\u001b[39m\u001b[38;5;241m*\u001b[39mkwargs):\n\u001b[1;32m    215\u001b[0m     \u001b[38;5;28;01mwith\u001b[39;00m config_context(\u001b[38;5;241m*\u001b[39m\u001b[38;5;241m*\u001b[39m\u001b[38;5;28mself\u001b[39m\u001b[38;5;241m.\u001b[39mconfig):\n\u001b[0;32m--> 216\u001b[0m         \u001b[38;5;28;01mreturn\u001b[39;00m \u001b[38;5;28;43mself\u001b[39;49m\u001b[38;5;241;43m.\u001b[39;49m\u001b[43mfunction\u001b[49m\u001b[43m(\u001b[49m\u001b[38;5;241;43m*\u001b[39;49m\u001b[43margs\u001b[49m\u001b[43m,\u001b[49m\u001b[43m \u001b[49m\u001b[38;5;241;43m*\u001b[39;49m\u001b[38;5;241;43m*\u001b[39;49m\u001b[43mkwargs\u001b[49m\u001b[43m)\u001b[49m\n",
      "File \u001b[0;32m~/venv/lib/python3.10/site-packages/sklearn/pipeline.py:876\u001b[0m, in \u001b[0;36m_transform_one\u001b[0;34m(transformer, X, y, weight, **fit_params)\u001b[0m\n\u001b[1;32m    875\u001b[0m \u001b[38;5;28;01mdef\u001b[39;00m \u001b[38;5;21m_transform_one\u001b[39m(transformer, X, y, weight, \u001b[38;5;241m*\u001b[39m\u001b[38;5;241m*\u001b[39mfit_params):\n\u001b[0;32m--> 876\u001b[0m     res \u001b[38;5;241m=\u001b[39m \u001b[43mtransformer\u001b[49m\u001b[38;5;241;43m.\u001b[39;49m\u001b[43mtransform\u001b[49m\u001b[43m(\u001b[49m\u001b[43mX\u001b[49m\u001b[43m)\u001b[49m\n\u001b[1;32m    877\u001b[0m     \u001b[38;5;66;03m# if we have a weight for this transformer, multiply output\u001b[39;00m\n\u001b[1;32m    878\u001b[0m     \u001b[38;5;28;01mif\u001b[39;00m weight \u001b[38;5;129;01mis\u001b[39;00m \u001b[38;5;28;01mNone\u001b[39;00m:\n",
      "File \u001b[0;32m~/venv/lib/python3.10/site-packages/sklearn/utils/metaestimators.py:113\u001b[0m, in \u001b[0;36m_AvailableIfDescriptor.__get__.<locals>.<lambda>\u001b[0;34m(*args, **kwargs)\u001b[0m\n\u001b[1;32m    110\u001b[0m         \u001b[38;5;28;01mraise\u001b[39;00m attr_err\n\u001b[1;32m    112\u001b[0m     \u001b[38;5;66;03m# lambda, but not partial, allows help() to work with update_wrapper\u001b[39;00m\n\u001b[0;32m--> 113\u001b[0m     out \u001b[38;5;241m=\u001b[39m \u001b[38;5;28;01mlambda\u001b[39;00m \u001b[38;5;241m*\u001b[39margs, \u001b[38;5;241m*\u001b[39m\u001b[38;5;241m*\u001b[39mkwargs: \u001b[38;5;28;43mself\u001b[39;49m\u001b[38;5;241;43m.\u001b[39;49m\u001b[43mfn\u001b[49m\u001b[43m(\u001b[49m\u001b[43mobj\u001b[49m\u001b[43m,\u001b[49m\u001b[43m \u001b[49m\u001b[38;5;241;43m*\u001b[39;49m\u001b[43margs\u001b[49m\u001b[43m,\u001b[49m\u001b[43m \u001b[49m\u001b[38;5;241;43m*\u001b[39;49m\u001b[38;5;241;43m*\u001b[39;49m\u001b[43mkwargs\u001b[49m\u001b[43m)\u001b[49m  \u001b[38;5;66;03m# noqa\u001b[39;00m\n\u001b[1;32m    114\u001b[0m \u001b[38;5;28;01melse\u001b[39;00m:\n\u001b[1;32m    116\u001b[0m     \u001b[38;5;28;01mdef\u001b[39;00m \u001b[38;5;21mfn\u001b[39m(\u001b[38;5;241m*\u001b[39margs, \u001b[38;5;241m*\u001b[39m\u001b[38;5;241m*\u001b[39mkwargs):\n",
      "File \u001b[0;32m~/venv/lib/python3.10/site-packages/sklearn/pipeline.py:647\u001b[0m, in \u001b[0;36mPipeline.transform\u001b[0;34m(self, X)\u001b[0m\n\u001b[1;32m    645\u001b[0m Xt \u001b[38;5;241m=\u001b[39m X\n\u001b[1;32m    646\u001b[0m \u001b[38;5;28;01mfor\u001b[39;00m _, _, transform \u001b[38;5;129;01min\u001b[39;00m \u001b[38;5;28mself\u001b[39m\u001b[38;5;241m.\u001b[39m_iter():\n\u001b[0;32m--> 647\u001b[0m     Xt \u001b[38;5;241m=\u001b[39m \u001b[43mtransform\u001b[49m\u001b[38;5;241;43m.\u001b[39;49m\u001b[43mtransform\u001b[49m\u001b[43m(\u001b[49m\u001b[43mXt\u001b[49m\u001b[43m)\u001b[49m\n\u001b[1;32m    648\u001b[0m \u001b[38;5;28;01mreturn\u001b[39;00m Xt\n",
      "File \u001b[0;32m~/venv/lib/python3.10/site-packages/sklearn/preprocessing/_discretization.py:322\u001b[0m, in \u001b[0;36mKBinsDiscretizer.transform\u001b[0;34m(self, X)\u001b[0m\n\u001b[1;32m    320\u001b[0m     eps \u001b[38;5;241m=\u001b[39m atol \u001b[38;5;241m+\u001b[39m rtol \u001b[38;5;241m*\u001b[39m np\u001b[38;5;241m.\u001b[39mabs(Xt[:, jj])\n\u001b[1;32m    321\u001b[0m     Xt[:, jj] \u001b[38;5;241m=\u001b[39m np\u001b[38;5;241m.\u001b[39mdigitize(Xt[:, jj] \u001b[38;5;241m+\u001b[39m eps, bin_edges[jj][\u001b[38;5;241m1\u001b[39m:])\n\u001b[0;32m--> 322\u001b[0m \u001b[43mnp\u001b[49m\u001b[38;5;241;43m.\u001b[39;49m\u001b[43mclip\u001b[49m\u001b[43m(\u001b[49m\u001b[43mXt\u001b[49m\u001b[43m,\u001b[49m\u001b[43m \u001b[49m\u001b[38;5;241;43m0\u001b[39;49m\u001b[43m,\u001b[49m\u001b[43m \u001b[49m\u001b[38;5;28;43mself\u001b[39;49m\u001b[38;5;241;43m.\u001b[39;49m\u001b[43mn_bins_\u001b[49m\u001b[43m \u001b[49m\u001b[38;5;241;43m-\u001b[39;49m\u001b[43m \u001b[49m\u001b[38;5;241;43m1\u001b[39;49m\u001b[43m,\u001b[49m\u001b[43m \u001b[49m\u001b[43mout\u001b[49m\u001b[38;5;241;43m=\u001b[39;49m\u001b[43mXt\u001b[49m\u001b[43m)\u001b[49m\n\u001b[1;32m    324\u001b[0m \u001b[38;5;28;01mif\u001b[39;00m \u001b[38;5;28mself\u001b[39m\u001b[38;5;241m.\u001b[39mencode \u001b[38;5;241m==\u001b[39m \u001b[38;5;124m\"\u001b[39m\u001b[38;5;124mordinal\u001b[39m\u001b[38;5;124m\"\u001b[39m:\n\u001b[1;32m    325\u001b[0m     \u001b[38;5;28;01mreturn\u001b[39;00m Xt\n",
      "File \u001b[0;32m<__array_function__ internals>:180\u001b[0m, in \u001b[0;36mclip\u001b[0;34m(*args, **kwargs)\u001b[0m\n",
      "File \u001b[0;32m~/venv/lib/python3.10/site-packages/numpy/core/fromnumeric.py:2152\u001b[0m, in \u001b[0;36mclip\u001b[0;34m(a, a_min, a_max, out, **kwargs)\u001b[0m\n\u001b[1;32m   2083\u001b[0m \u001b[38;5;129m@array_function_dispatch\u001b[39m(_clip_dispatcher)\n\u001b[1;32m   2084\u001b[0m \u001b[38;5;28;01mdef\u001b[39;00m \u001b[38;5;21mclip\u001b[39m(a, a_min, a_max, out\u001b[38;5;241m=\u001b[39m\u001b[38;5;28;01mNone\u001b[39;00m, \u001b[38;5;241m*\u001b[39m\u001b[38;5;241m*\u001b[39mkwargs):\n\u001b[1;32m   2085\u001b[0m     \u001b[38;5;124;03m\"\"\"\u001b[39;00m\n\u001b[1;32m   2086\u001b[0m \u001b[38;5;124;03m    Clip (limit) the values in an array.\u001b[39;00m\n\u001b[1;32m   2087\u001b[0m \n\u001b[0;32m   (...)\u001b[0m\n\u001b[1;32m   2150\u001b[0m \n\u001b[1;32m   2151\u001b[0m \u001b[38;5;124;03m    \"\"\"\u001b[39;00m\n\u001b[0;32m-> 2152\u001b[0m     \u001b[38;5;28;01mreturn\u001b[39;00m \u001b[43m_wrapfunc\u001b[49m\u001b[43m(\u001b[49m\u001b[43ma\u001b[49m\u001b[43m,\u001b[49m\u001b[43m \u001b[49m\u001b[38;5;124;43m'\u001b[39;49m\u001b[38;5;124;43mclip\u001b[39;49m\u001b[38;5;124;43m'\u001b[39;49m\u001b[43m,\u001b[49m\u001b[43m \u001b[49m\u001b[43ma_min\u001b[49m\u001b[43m,\u001b[49m\u001b[43m \u001b[49m\u001b[43ma_max\u001b[49m\u001b[43m,\u001b[49m\u001b[43m \u001b[49m\u001b[43mout\u001b[49m\u001b[38;5;241;43m=\u001b[39;49m\u001b[43mout\u001b[49m\u001b[43m,\u001b[49m\u001b[43m \u001b[49m\u001b[38;5;241;43m*\u001b[39;49m\u001b[38;5;241;43m*\u001b[39;49m\u001b[43mkwargs\u001b[49m\u001b[43m)\u001b[49m\n",
      "File \u001b[0;32m~/venv/lib/python3.10/site-packages/numpy/core/fromnumeric.py:57\u001b[0m, in \u001b[0;36m_wrapfunc\u001b[0;34m(obj, method, *args, **kwds)\u001b[0m\n\u001b[1;32m     54\u001b[0m     \u001b[38;5;28;01mreturn\u001b[39;00m _wrapit(obj, method, \u001b[38;5;241m*\u001b[39margs, \u001b[38;5;241m*\u001b[39m\u001b[38;5;241m*\u001b[39mkwds)\n\u001b[1;32m     56\u001b[0m \u001b[38;5;28;01mtry\u001b[39;00m:\n\u001b[0;32m---> 57\u001b[0m     \u001b[38;5;28;01mreturn\u001b[39;00m \u001b[43mbound\u001b[49m\u001b[43m(\u001b[49m\u001b[38;5;241;43m*\u001b[39;49m\u001b[43margs\u001b[49m\u001b[43m,\u001b[49m\u001b[43m \u001b[49m\u001b[38;5;241;43m*\u001b[39;49m\u001b[38;5;241;43m*\u001b[39;49m\u001b[43mkwds\u001b[49m\u001b[43m)\u001b[49m\n\u001b[1;32m     58\u001b[0m \u001b[38;5;28;01mexcept\u001b[39;00m \u001b[38;5;167;01mTypeError\u001b[39;00m:\n\u001b[1;32m     59\u001b[0m     \u001b[38;5;66;03m# A TypeError occurs if the object does have such a method in its\u001b[39;00m\n\u001b[1;32m     60\u001b[0m     \u001b[38;5;66;03m# class, but its signature is not identical to that of NumPy's. This\u001b[39;00m\n\u001b[0;32m   (...)\u001b[0m\n\u001b[1;32m     64\u001b[0m     \u001b[38;5;66;03m# Call _wrapit from within the except clause to ensure a potential\u001b[39;00m\n\u001b[1;32m     65\u001b[0m     \u001b[38;5;66;03m# exception has a traceback chain.\u001b[39;00m\n\u001b[1;32m     66\u001b[0m     \u001b[38;5;28;01mreturn\u001b[39;00m _wrapit(obj, method, \u001b[38;5;241m*\u001b[39margs, \u001b[38;5;241m*\u001b[39m\u001b[38;5;241m*\u001b[39mkwds)\n",
      "File \u001b[0;32m~/venv/lib/python3.10/site-packages/numpy/core/_methods.py:159\u001b[0m, in \u001b[0;36m_clip\u001b[0;34m(a, min, max, out, casting, **kwargs)\u001b[0m\n\u001b[1;32m    156\u001b[0m     \u001b[38;5;28;01mreturn\u001b[39;00m _clip_dep_invoke_with_casting(\n\u001b[1;32m    157\u001b[0m         um\u001b[38;5;241m.\u001b[39mmaximum, a, \u001b[38;5;28mmin\u001b[39m, out\u001b[38;5;241m=\u001b[39mout, casting\u001b[38;5;241m=\u001b[39mcasting, \u001b[38;5;241m*\u001b[39m\u001b[38;5;241m*\u001b[39mkwargs)\n\u001b[1;32m    158\u001b[0m \u001b[38;5;28;01melse\u001b[39;00m:\n\u001b[0;32m--> 159\u001b[0m     \u001b[38;5;28;01mreturn\u001b[39;00m \u001b[43m_clip_dep_invoke_with_casting\u001b[49m\u001b[43m(\u001b[49m\n\u001b[1;32m    160\u001b[0m \u001b[43m        \u001b[49m\u001b[43mum\u001b[49m\u001b[38;5;241;43m.\u001b[39;49m\u001b[43mclip\u001b[49m\u001b[43m,\u001b[49m\u001b[43m \u001b[49m\u001b[43ma\u001b[49m\u001b[43m,\u001b[49m\u001b[43m \u001b[49m\u001b[38;5;28;43mmin\u001b[39;49m\u001b[43m,\u001b[49m\u001b[43m \u001b[49m\u001b[38;5;28;43mmax\u001b[39;49m\u001b[43m,\u001b[49m\u001b[43m \u001b[49m\u001b[43mout\u001b[49m\u001b[38;5;241;43m=\u001b[39;49m\u001b[43mout\u001b[49m\u001b[43m,\u001b[49m\u001b[43m \u001b[49m\u001b[43mcasting\u001b[49m\u001b[38;5;241;43m=\u001b[39;49m\u001b[43mcasting\u001b[49m\u001b[43m,\u001b[49m\u001b[43m \u001b[49m\u001b[38;5;241;43m*\u001b[39;49m\u001b[38;5;241;43m*\u001b[39;49m\u001b[43mkwargs\u001b[49m\u001b[43m)\u001b[49m\n",
      "File \u001b[0;32m~/venv/lib/python3.10/site-packages/numpy/core/_methods.py:113\u001b[0m, in \u001b[0;36m_clip_dep_invoke_with_casting\u001b[0;34m(ufunc, out, casting, *args, **kwargs)\u001b[0m\n\u001b[1;32m    111\u001b[0m \u001b[38;5;66;03m# try to deal with broken casting rules\u001b[39;00m\n\u001b[1;32m    112\u001b[0m \u001b[38;5;28;01mtry\u001b[39;00m:\n\u001b[0;32m--> 113\u001b[0m     \u001b[38;5;28;01mreturn\u001b[39;00m \u001b[43mufunc\u001b[49m\u001b[43m(\u001b[49m\u001b[38;5;241;43m*\u001b[39;49m\u001b[43margs\u001b[49m\u001b[43m,\u001b[49m\u001b[43m \u001b[49m\u001b[43mout\u001b[49m\u001b[38;5;241;43m=\u001b[39;49m\u001b[43mout\u001b[49m\u001b[43m,\u001b[49m\u001b[43m \u001b[49m\u001b[38;5;241;43m*\u001b[39;49m\u001b[38;5;241;43m*\u001b[39;49m\u001b[43mkwargs\u001b[49m\u001b[43m)\u001b[49m\n\u001b[1;32m    114\u001b[0m \u001b[38;5;28;01mexcept\u001b[39;00m _exceptions\u001b[38;5;241m.\u001b[39m_UFuncOutputCastingError \u001b[38;5;28;01mas\u001b[39;00m e:\n\u001b[1;32m    115\u001b[0m     \u001b[38;5;66;03m# Numpy 1.17.0, 2019-02-24\u001b[39;00m\n\u001b[1;32m    116\u001b[0m     warnings\u001b[38;5;241m.\u001b[39mwarn(\n\u001b[1;32m    117\u001b[0m         \u001b[38;5;124m\"\u001b[39m\u001b[38;5;124mConverting the output of clip from \u001b[39m\u001b[38;5;132;01m{!r}\u001b[39;00m\u001b[38;5;124m to \u001b[39m\u001b[38;5;132;01m{!r}\u001b[39;00m\u001b[38;5;124m is deprecated. \u001b[39m\u001b[38;5;124m\"\u001b[39m\n\u001b[1;32m    118\u001b[0m         \u001b[38;5;124m\"\u001b[39m\u001b[38;5;124mPass `casting=\u001b[39m\u001b[38;5;130;01m\\\"\u001b[39;00m\u001b[38;5;124munsafe\u001b[39m\u001b[38;5;130;01m\\\"\u001b[39;00m\u001b[38;5;124m` explicitly to silence this warning, or \u001b[39m\u001b[38;5;124m\"\u001b[39m\n\u001b[0;32m   (...)\u001b[0m\n\u001b[1;32m    121\u001b[0m         stacklevel\u001b[38;5;241m=\u001b[39m\u001b[38;5;241m2\u001b[39m\n\u001b[1;32m    122\u001b[0m     )\n",
      "\u001b[0;31mKeyboardInterrupt\u001b[0m: "
     ]
    }
   ],
   "source": [
    "data_feat = {}\n",
    "full_feat = []\n",
    "avg_feat_info = {} \n",
    "\n",
    "for model_key, model in siloed_feat_efc.items():\n",
    "    \n",
    "    silos_y_test = np.array([]) \n",
    "    silos_y_pred = np.array([]) \n",
    "    \n",
    "    for key, silo in silos.items():\n",
    "        #if model_key == key:\n",
    "        #    continue\n",
    "            \n",
    "        X = silo.drop(columns=features_to_delete).copy()\n",
    "        #X.dropna(inplace=True)\n",
    "        X = preprocess(X)\n",
    "        y = silo[\"Label\"].copy()\n",
    "    \n",
    "        X_train, X_test, y_train, y_test = train_test_split(\n",
    "            X, y, random_state=42, stratify=y, shuffle=True, test_size=0.3\n",
    "        )\n",
    "        \n",
    "        y_pred = model.predict(X_test)\n",
    "        score = f1_score(y_test, y_pred)\n",
    "        \n",
    "        silos_y_test = np.concatenate((silos_y_test, y_test), axis=None)\n",
    "        silos_y_pred = np.concatenate((silos_y_pred, y_pred), axis=None)\n",
    "        \n",
    "        data_feat[key] = score\n",
    "    \n",
    "    print(f\"{model_key} >>> \")\n",
    "    print(confusion_matrix(silos_y_test, silos_y_pred))\n",
    "        \n",
    "    full_feat.append(data_feat)\n",
    "    avg_feat_info[model_key] = data_feat\n",
    "    data_feat = {}"
   ]
  },
  {
   "cell_type": "code",
   "execution_count": null,
   "id": "ee226a11-ea33-4ee1-8c8a-61b5c46109f5",
   "metadata": {
    "tags": []
   },
   "outputs": [],
   "source": [
    "cross_silo_feat_efc = pd.DataFrame(full_feat, index=list(siloed_feat_efc.keys()))"
   ]
  },
  {
   "cell_type": "code",
   "execution_count": null,
   "id": "ad91733f-d342-4b80-ad21-835468b3142b",
   "metadata": {
    "tags": []
   },
   "outputs": [],
   "source": [
    "plt.figure(figsize = (20,16))\n",
    "ax = sns.heatmap(cross_silo_feat_efc, xticklabels=cross_silo_feat_efc.columns, yticklabels=cross_silo_feat_efc.columns, annot=True)"
   ]
  },
  {
   "cell_type": "code",
   "execution_count": null,
   "id": "9e07e9b7-5ce8-45b3-8c2d-10ba3d604877",
   "metadata": {
    "tags": []
   },
   "outputs": [],
   "source": [
    "# Calculo da média do modelo de cada um dos agentes avaliado em outros datasets\n",
    "average_f1_feat_score = dict()\n",
    "\n",
    "for i in range(len(avg_feat_info)):\n",
    "    name = \"agent\" + str(i+1)\n",
    "    average_f1_feat_score[name] = average(avg_feat_info[name].values())\n",
    "\n",
    "for name, value in average_f1_feat_score.items():\n",
    "    print(value)"
   ]
  },
  {
   "cell_type": "markdown",
   "id": "344fe66d-0a91-4824-85f4-0369b8d893a8",
   "metadata": {},
   "source": [
    "## Validação entre os silos utilizando feature selection"
   ]
  },
  {
   "cell_type": "code",
   "execution_count": null,
   "id": "4967e289-5e3f-45f0-b2e1-ce02a4851da5",
   "metadata": {},
   "outputs": [],
   "source": [
    "agents = silos.copy()\n",
    "seed = 42"
   ]
  },
  {
   "cell_type": "markdown",
   "id": "42ea5ce7-0c8f-4ffb-820d-889134ea6199",
   "metadata": {},
   "source": [
    "### FedAvg hyperparameters"
   ]
  },
  {
   "cell_type": "code",
   "execution_count": null,
   "id": "fbd48fd6-68b4-4477-843b-e583447a5bbb",
   "metadata": {},
   "outputs": [],
   "source": [
    "rounds = 50\n",
    "\n",
    "# Epochs\n",
    "# FedAvg requires a minimum number of training epochs before averaging\n",
    "# For epoch=1 is the same as FedSGD (https://www.cs.cornell.edu/~shmat/shmat_ccs15.pdf)\n",
    "epochs = 20\n",
    "\n",
    "# train_size same as batch size\n",
    "# If float, should be between 0.0 and 1.0 and represent the proportion of the dataset to include in the train split. \n",
    "# If int, represents the absolute number of train samples\n",
    "train_size=100 #0.05\n",
    "\n",
    "remove_agents = []"
   ]
  },
  {
   "cell_type": "markdown",
   "id": "5b7787b1-7bc6-474f-b3f0-4d63adf654e2",
   "metadata": {},
   "source": [
    "### Auxiliary Functions"
   ]
  },
  {
   "cell_type": "code",
   "execution_count": null,
   "id": "32dca34e-5e4b-4a13-a512-b54d791a5e63",
   "metadata": {},
   "outputs": [],
   "source": [
    "def process_results(results, remove_list=[]):\n",
    "    all_values = []\n",
    "    for major_key in results.keys():\n",
    "        if (major_key in remove_list) in remove_list:\n",
    "            continue\n",
    "        values = []\n",
    "        for key in agents.keys():\n",
    "            if key in remove_list:\n",
    "                continue\n",
    "            values.append(results[major_key][key])\n",
    "        all_values.append(values)\n",
    "    return all_values"
   ]
  },
  {
   "cell_type": "code",
   "execution_count": null,
   "id": "f6f2a3dd-7321-4855-828c-21a70dc39f5a",
   "metadata": {},
   "outputs": [],
   "source": [
    "# update each agent model by current global model values\n",
    "def load_global_model(model):\n",
    "    model.intercept_ = fedavg.intercept_.copy()\n",
    "    model.coef_ = fedavg.coef_.copy()\n",
    "    return model"
   ]
  },
  {
   "cell_type": "code",
   "execution_count": null,
   "id": "2c80e29a-10af-4dcb-8730-e9c87cfbba34",
   "metadata": {},
   "outputs": [],
   "source": [
    "def update_global_model(applicable_models, round_weights):\n",
    "    # Average models parameters\n",
    "    coefs = []\n",
    "    intercept = []\n",
    "    for model in applicable_models:\n",
    "        coefs.append(model.coef_)\n",
    "        intercept.append(model.intercept_)\n",
    "    \n",
    "    # average and update FedAvg (aggregator model)\n",
    "    fedavg.coef_ = np.average(coefs, axis=0, weights=round_weights) # weight\n",
    "    fedavg.intercept_ = np.average(intercept, axis=0, weights=round_weights) # weight"
   ]
  },
  {
   "cell_type": "code",
   "execution_count": null,
   "id": "1e471ec9-a8fe-4232-a2c1-2a86df8a90ee",
   "metadata": {},
   "outputs": [],
   "source": [
    "def train_local_agent(X, y, model, epochs, class_weight):\n",
    "    for _ in range(0, epochs):\n",
    "        model.partial_fit(X, y, classes=np.unique(y), sample_weight=class_weight)\n",
    "    return model"
   ]
  },
  {
   "cell_type": "code",
   "execution_count": null,
   "id": "8b63cc4f-b1b1-4c21-a96c-128ef116b676",
   "metadata": {},
   "outputs": [],
   "source": [
    "# update each agent model by current global model values\n",
    "def load_global_model(model):\n",
    "    model.intercept_ = fedavg.intercept_.copy()\n",
    "    model.coef_ = fedavg.coef_.copy()\n",
    "    return model"
   ]
  },
  {
   "cell_type": "code",
   "execution_count": null,
   "id": "824d6354-3886-4d69-80e0-65becaf601b4",
   "metadata": {},
   "outputs": [],
   "source": [
    "def update_global_model(applicable_models, round_weights):\n",
    "    # Average models parameters\n",
    "    coefs = []\n",
    "    intercept = []\n",
    "    for model in applicable_models:\n",
    "        coefs.append(model.coef_)\n",
    "        intercept.append(model.intercept_)\n",
    "    \n",
    "    # average and update FedAvg (aggregator model)\n",
    "    fedavg.coef_ = np.average(coefs, axis=0, weights=round_weights) # weight\n",
    "    fedavg.intercept_ = np.average(intercept, axis=0, weights=round_weights) # weight"
   ]
  },
  {
   "cell_type": "code",
   "execution_count": null,
   "id": "f4fe4824-eac7-49ce-9136-1d42ea1da2f0",
   "metadata": {},
   "outputs": [],
   "source": [
    "def train_local_agent(X, y, model, epochs, class_weight):\n",
    "    for _ in range(0, epochs):\n",
    "        model.partial_fit(X, y, classes=np.unique(y), sample_weight=class_weight)\n",
    "    return model"
   ]
  },
  {
   "cell_type": "markdown",
   "id": "c9a2e944-3600-43aa-9d9b-2e0f3b2e37f2",
   "metadata": {},
   "source": [
    "### Global Model"
   ]
  },
  {
   "cell_type": "code",
   "execution_count": null,
   "id": "bdf642fd-e0e2-4e3d-9215-c4a6c02a346b",
   "metadata": {},
   "outputs": [],
   "source": [
    "fedavg = SGDClassifier() \n",
    "lr = 0.1\n",
    "def initialize_global_model(agent, features_to_drop):\n",
    "    lr = 0.1\n",
    "    fedavg = SGDClassifier(n_jobs=-1, random_state=seed, loss=\"log\", learning_rate='constant', eta0=lr, verbose=0) # global\n",
    "    features = agent.drop(columns=features_to_drop).shape[1] # total number of features\n",
    "    fedavg.intercept_ = np.zeros(1)\n",
    "    fedavg.coef_ = np.zeros((1, features))\n",
    "    fedavg.classes_ = np.array([0, 1])\n",
    "    return fedavg"
   ]
  },
  {
   "cell_type": "code",
   "execution_count": null,
   "id": "7a08d401-d33d-409f-bb8c-c1fbd04e5c54",
   "metadata": {},
   "outputs": [],
   "source": [
    "sgd_feature = dict()\n",
    "for agent in agents.keys():\n",
    "    sgd_feature[agent] = SGDClassifier(n_jobs=-1, random_state=seed, loss=\"log\", learning_rate='constant', eta0=lr, verbose=0)"
   ]
  },
  {
   "cell_type": "code",
   "execution_count": null,
   "id": "49a6ed5c-faa1-4184-96cd-0e5c4d167740",
   "metadata": {},
   "outputs": [],
   "source": [
    "fedavg = initialize_global_model(agents[\"agent1\"], features_to_delete)"
   ]
  },
  {
   "cell_type": "markdown",
   "id": "96b92257-b27d-4f9d-b257-a6845f830843",
   "metadata": {},
   "source": [
    "### Benign Samples"
   ]
  },
  {
   "cell_type": "code",
   "execution_count": null,
   "id": "5a420118-10f9-43ff-bbf8-d3d6a783debc",
   "metadata": {},
   "outputs": [],
   "source": [
    "rounds_f1_score = dict() \n",
    "\n",
    "print(\"Federated Training Started.\")\n",
    "for r in range(rounds):\n",
    "    sample_size = random.randint(int(len(agents)/2), len(agents))\n",
    "    applicable_agents = random.sample(list(agents.keys()), k=sample_size) # select random agents/silos\n",
    "\n",
    "    applicable_models = []\n",
    "    applicable_name = []\n",
    "\n",
    "    round_weights = []\n",
    "    dataset_size = 0\n",
    "\n",
    "    for name, agent in agents.items():\n",
    "        if name not in applicable_agents: # check if agent/silos is in applicable_agents\n",
    "            continue\n",
    "\n",
    "        if name in remove_agents: # check if agent/silos is in remove_agents, if yes, jump (refer to FedAvg hyperparams)\n",
    "            continue\n",
    "        \n",
    "        prep = StandardScaler() \n",
    "        applicable_name.append(name)\n",
    "\n",
    "        agent_balanced = rebalance_agent(agent)\n",
    "        \n",
    "        print(\".\", end=\" \")\n",
    "        X = agent_balanced.drop(columns=features_to_delete)\n",
    "        y = agent_balanced.Label\n",
    "      \n",
    "        X = preprocess(X)\n",
    "\n",
    "        X_train, X_test, y_train, y_test = train_test_split(X, y, shuffle=True, train_size=train_size, stratify=y) #stratified / random_state=seed\n",
    "        X_train = prep.fit_transform(X_train)\n",
    "\n",
    "        dataset_size += X_train.shape[0]\n",
    "\n",
    "        sample_weights = compute_sample_weight('balanced', y=y_train)\n",
    "        sgd_feature[name] = load_global_model(sgd_feature[name])\n",
    "        sgd_feature[name] = train_local_agent(X_train, y_train, sgd_feature[name], epochs, sample_weights)\n",
    "        round_weights.append(X_train.shape[0])\n",
    "        applicable_models.append(sgd_feature[name])\n",
    "\n",
    "    round_weights = np.array(round_weights) / dataset_size # calculate weight based on actual dataset size\n",
    "\n",
    "    try:\n",
    "        update_global_model(applicable_models, round_weights)\n",
    "    except:\n",
    "        print(\"Error updating global model, due to division by 0\")\n",
    "    \n",
    "    for name, agent in agents.items():\n",
    "        sgd_feature[name] = load_global_model(sgd_feature[name])"
   ]
  },
  {
   "cell_type": "code",
   "execution_count": null,
   "id": "bb3be089-cf8f-4891-a3dc-1108b1cb6221",
   "metadata": {},
   "outputs": [],
   "source": [
    "cross_validation_results = dict()\n",
    "\n",
    "print(\"Cross Validation Analisys Started...\")\n",
    "for name, agent in agents.items():\n",
    "    \n",
    "    silos_y_test = np.array([]) \n",
    "    silos_y_pred = np.array([])\n",
    "    \n",
    "    print(\".\", end=\"\")\n",
    "    if name in remove_agents:\n",
    "            continue\n",
    "            \n",
    "    agent_balanced = rebalance_agent(agent) \n",
    "    \n",
    "    X = agent_balanced.drop(columns=features_to_delete)\n",
    "    y = agent_balanced.Label\n",
    "\n",
    "    X = preprocess(X)\n",
    "    \n",
    "    X_train, X_test, y_train, y_test = train_test_split(X, y, test_size=0.3, random_state=seed, stratify=y) #stratified\n",
    "    \n",
    "    X_train = prep.fit_transform(X_train)\n",
    "    X_test = prep.transform(X_test) \n",
    "    \n",
    "    y_pred = sgd_feature[name].predict(X_test)\n",
    "    \n",
    "    cross_validation_results[name] = dict()\n",
    "    cross_validation_results[name][name] = f1_score(y_test, y_pred, average=\"binary\")\n",
    "    \n",
    "    print(name + \" \" + str(cross_validation_results[name][name]))\n",
    "    \n",
    "    silos_y_test = np.concatenate((silos_y_test, y_test), axis=None)\n",
    "    silos_y_pred = np.concatenate((silos_y_pred, y_pred), axis=None)\n",
    "    \n",
    "    for test_name, test_agent in agents.items():\n",
    "        if test_name == name:\n",
    "            continue\n",
    "        \n",
    "        X = test_agent.drop(columns=features_to_delete)\n",
    "        y = test_agent.Label\n",
    "        X_train, X_test, y_train, y_test = train_test_split(X, y, test_size=0.3, random_state=seed, stratify=y) #stratified\n",
    "        X_test = preprocess(X_test)\n",
    "        X_test = prep.transform(X_test)\n",
    "        \n",
    "        y_pred = sgd_feature[name].predict(X_test)\n",
    "        cross_validation_results[name][test_name] = f1_score(y_test, y_pred, average=\"binary\")\n",
    "        \n",
    "        silos_y_test = np.concatenate((silos_y_test, y_test), axis=None)\n",
    "        silos_y_pred = np.concatenate((silos_y_pred, y_pred), axis=None)\n",
    "    \n",
    "    print(f\"{name} >>> \")\n",
    "    print(confusion_matrix(silos_y_test, silos_y_pred))"
   ]
  },
  {
   "cell_type": "code",
   "execution_count": null,
   "id": "6284a088-39a1-43b2-8a1e-6f2575d15347",
   "metadata": {},
   "outputs": [],
   "source": [
    "feature_results = process_results(cross_validation_results, remove_agents)"
   ]
  },
  {
   "cell_type": "code",
   "execution_count": null,
   "id": "e62e0c66-277a-4a69-9c2c-34dbb52913d8",
   "metadata": {},
   "outputs": [],
   "source": [
    "labels = [i for i in agents.keys() if i not in remove_agents]\n",
    "plt.figure(figsize = (30,15))\n",
    "ax = sns.heatmap(feature_results, vmin=0, vmax=1, annot=True, fmt=\".4f\", xticklabels=labels, yticklabels=labels, cmap=\"YlGnBu\")"
   ]
  },
  {
   "cell_type": "code",
   "execution_count": null,
   "id": "6a9847a4-7479-4a75-a00c-2f6e46ee7a03",
   "metadata": {},
   "outputs": [],
   "source": [
    "average_f1_score = dict()\n",
    "for i, name in enumerate(agents.keys()):\n",
    "    average_f1_score[name] = average(feature_results[i])\n",
    "\n",
    "for value in average_f1_score.values():\n",
    "    print(value)"
   ]
  },
  {
   "cell_type": "markdown",
   "id": "b2b6deff-c49c-4754-a083-64d9feba948b",
   "metadata": {
    "tags": []
   },
   "source": [
    "# Evaluation models by combining EFC + Federated Learning Model"
   ]
  },
  {
   "cell_type": "code",
   "execution_count": null,
   "id": "b2acbf52-1472-4e64-b9c0-eb1a5167e65e",
   "metadata": {},
   "outputs": [],
   "source": [
    "from sklearn.metrics import ConfusionMatrixDisplay"
   ]
  },
  {
   "cell_type": "markdown",
   "id": "925de63a-4cfd-44f7-8419-b8b735fa3943",
   "metadata": {},
   "source": [
    "Combination of the models using **OR** operation "
   ]
  },
  {
   "cell_type": "code",
   "execution_count": null,
   "id": "f3408916-96ef-43c8-99db-b0f4291fc6df",
   "metadata": {},
   "outputs": [],
   "source": [
    "cross_validation_results = dict()\n",
    "\n",
    "print(\"Cross Validation Analisys Started...\")\n",
    "for name, agent in agents.items():\n",
    "    \n",
    "    silos_y_test = np.array([]) \n",
    "    silos_y_pred = np.array([])\n",
    "    \n",
    "    print(\".\", end=\"\")\n",
    "    if name in remove_agents:\n",
    "            continue\n",
    "            \n",
    "    agent_balanced = rebalance_agent(agent) \n",
    "    \n",
    "    X = agent_balanced.drop(columns=features_to_delete)\n",
    "    y = agent_balanced.Label\n",
    "\n",
    "    X = preprocess(X)\n",
    "    \n",
    "    X_train, X_test, y_train, y_test = train_test_split(X, y, test_size=0.3, random_state=seed, stratify=y) #stratified\n",
    "    \n",
    "    X_train = prep.fit_transform(X_train)\n",
    "    X_test = prep.transform(X_test) \n",
    "    \n",
    "    y_pred_federated = sgd_feature[name].predict(X_test)\n",
    "    y_pred_efc = siloed_feat_efc[name].predict(X_test) \n",
    "    \n",
    "    y_pred = np.logical_or(y_pred_federated, y_pred_efc)\n",
    "    \n",
    "    silos_y_test = np.concatenate((silos_y_test, y_test), axis=None)\n",
    "    silos_y_pred = np.concatenate((silos_y_pred, y_pred), axis=None)\n",
    "    \n",
    "    cross_validation_results[name] = dict()\n",
    "    cross_validation_results[name][name] = f1_score(y_test, y_pred, average=\"binary\")\n",
    "    \n",
    "    print(name + \" \" + str(cross_validation_results[name][name]))\n",
    "    \n",
    "    for test_name, test_agent in agents.items():\n",
    "        if test_name == name:\n",
    "            continue\n",
    "        \n",
    "        X = test_agent.drop(columns=features_to_delete)\n",
    "        y = test_agent.Label\n",
    "        X_train, X_test, y_train, y_test = train_test_split(X, y, test_size=0.3, random_state=seed, stratify=y) #stratified\n",
    "        X_test = preprocess(X_test)\n",
    "        X_test = prep.transform(X_test)\n",
    "        \n",
    "        y_pred_federated = sgd_feature[name].predict(X_test)\n",
    "        y_pred_efc = siloed_feat_efc[name].predict(X_test)\n",
    "        \n",
    "        y_pred = np.logical_or(y_pred_federated, y_pred_efc)\n",
    "        \n",
    "        silos_y_test = np.concatenate((silos_y_test, y_test), axis=None)\n",
    "        silos_y_pred = np.concatenate((silos_y_pred, y_pred), axis=None)\n",
    "        \n",
    "        cross_validation_results[name][test_name] = f1_score(y_test, y_pred, average=\"binary\")\n",
    "    \n",
    "    print(f\"{name} >>> \")\n",
    "    cm = confusion_matrix(silos_y_test, silos_y_pred)\n",
    "    disp = ConfusionMatrixDisplay(confusion_matrix=cm)\n",
    "    disp.plot()\n",
    "    plt.show()\n",
    "\n",
    "    "
   ]
  },
  {
   "cell_type": "code",
   "execution_count": null,
   "id": "5f4efb82-1459-49cc-b16f-b2902bfea17b",
   "metadata": {},
   "outputs": [],
   "source": [
    "array_valores_01 = np.array([0,0,0])\n",
    "array_valores_02 = np.array([1,0,0])\n",
    "\n",
    "print(np.logical_or(array_valores_01, array_valores_02))"
   ]
  },
  {
   "cell_type": "code",
   "execution_count": null,
   "id": "7efe442b-8485-4f9d-b8df-792d9cc56316",
   "metadata": {},
   "outputs": [],
   "source": [
    "feature_results = process_results(cross_validation_results, remove_agents)"
   ]
  },
  {
   "cell_type": "code",
   "execution_count": null,
   "id": "5f1e6a9e-4e42-46e5-bfa7-f52a89941795",
   "metadata": {},
   "outputs": [],
   "source": [
    "labels = [i for i in agents.keys() if i not in remove_agents]\n",
    "plt.figure(figsize = (30,15))\n",
    "ax = sns.heatmap(feature_results, vmin=0, vmax=1, annot=True, fmt=\".4f\", xticklabels=labels, yticklabels=labels, cmap=\"YlGnBu\")"
   ]
  },
  {
   "cell_type": "code",
   "execution_count": null,
   "id": "adae28ee-a000-4c05-a2ca-fd54429bcd1f",
   "metadata": {},
   "outputs": [],
   "source": [
    "average_f1_score = dict()\n",
    "for i, name in enumerate(agents.keys()):\n",
    "    average_f1_score[name] = average(feature_results[i])\n",
    "\n",
    "for value in average_f1_score.values():\n",
    "    print(value)"
   ]
  },
  {
   "cell_type": "markdown",
   "id": "27a7a439-bbf9-4aec-9a17-965228875707",
   "metadata": {},
   "source": [
    "Combination of the models using **AND** operation "
   ]
  },
  {
   "cell_type": "code",
   "execution_count": null,
   "id": "3dd97048-7167-4ea5-8039-eae39da9aa45",
   "metadata": {},
   "outputs": [],
   "source": [
    "cross_validation_results = dict()\n",
    "\n",
    "print(\"Cross Validation Analisys Started...\")\n",
    "for name, agent in agents.items():\n",
    "    \n",
    "    silos_y_test = np.array([]) \n",
    "    silos_y_pred = np.array([])\n",
    "    \n",
    "    print(\".\", end=\"\")\n",
    "    if name in remove_agents:\n",
    "            continue\n",
    "            \n",
    "    agent_balanced = rebalance_agent(agent) \n",
    "    \n",
    "    X = agent_balanced.drop(columns=features_to_delete)\n",
    "    y = agent_balanced.Label\n",
    "\n",
    "    X = preprocess(X)\n",
    "    \n",
    "    X_train, X_test, y_train, y_test = train_test_split(X, y, test_size=0.3, random_state=seed, stratify=y) #stratified\n",
    "    \n",
    "    X_train = prep.fit_transform(X_train)\n",
    "    X_test = prep.transform(X_test) \n",
    "    \n",
    "    y_pred_federated = sgd_feature[name].predict(X_test)\n",
    "    y_pred_efc = siloed_feat_efc[name].predict(X_test) \n",
    "    \n",
    "    y_pred = np.logical_and(y_pred_federated, y_pred_efc)\n",
    "    \n",
    "    silos_y_test = np.concatenate((silos_y_test, y_test), axis=None)\n",
    "    silos_y_pred = np.concatenate((silos_y_pred, y_pred), axis=None)\n",
    "\n",
    "    cross_validation_results[name] = dict()\n",
    "    cross_validation_results[name][name] = f1_score(y_test, y_pred, average=\"binary\")\n",
    "    \n",
    "    print(name + \" \" + str(cross_validation_results[name][name]))\n",
    "    \n",
    "    for test_name, test_agent in agents.items():\n",
    "        if test_name == name:\n",
    "            continue\n",
    "        \n",
    "        X = test_agent.drop(columns=features_to_delete)\n",
    "        y = test_agent.Label\n",
    "        X_train, X_test, y_train, y_test = train_test_split(X, y, test_size=0.3, random_state=seed, stratify=y) #stratified\n",
    "        X_test = preprocess(X_test)\n",
    "        X_test = prep.transform(X_test)\n",
    "        \n",
    "        y_pred_federated = sgd_feature[name].predict(X_test)\n",
    "        y_pred_efc = siloed_feat_efc[name].predict(X_test)\n",
    "        \n",
    "        y_pred = np.logical_and(y_pred_federated, y_pred_efc)\n",
    "        \n",
    "        silos_y_test = np.concatenate((silos_y_test, y_test), axis=None)\n",
    "        silos_y_pred = np.concatenate((silos_y_pred, y_pred), axis=None)\n",
    "        \n",
    "        cross_validation_results[name][test_name] = f1_score(y_test, y_pred, average=\"binary\")\n",
    "    \n",
    "    print(f\"{name} >>> \")\n",
    "    cm = confusion_matrix(silos_y_test, silos_y_pred)\n",
    "    disp = ConfusionMatrixDisplay(confusion_matrix=cm)\n",
    "    disp.plot()\n",
    "    plt.show()\n"
   ]
  },
  {
   "cell_type": "code",
   "execution_count": null,
   "id": "06c349c5-576a-4c22-ac6a-dfc29d46f8c0",
   "metadata": {},
   "outputs": [],
   "source": [
    "feature_results = process_results(cross_validation_results, remove_agents)"
   ]
  },
  {
   "cell_type": "code",
   "execution_count": null,
   "id": "a3fd36b6-aa26-4b4d-a81d-b9d1c21b8ef0",
   "metadata": {},
   "outputs": [],
   "source": [
    "labels = [i for i in agents.keys() if i not in remove_agents]\n",
    "plt.figure(figsize = (30,15))\n",
    "ax = sns.heatmap(feature_results, vmin=0, vmax=1, annot=True, fmt=\".4f\", xticklabels=labels, yticklabels=labels, cmap=\"YlGnBu\")"
   ]
  },
  {
   "cell_type": "code",
   "execution_count": null,
   "id": "39d7a5c8-f2c5-4087-a9a1-bd6418d31c3e",
   "metadata": {},
   "outputs": [],
   "source": [
    "average_f1_score = dict()\n",
    "for i, name in enumerate(agents.keys()):\n",
    "    average_f1_score[name] = average(feature_results[i])\n",
    "\n",
    "for value in average_f1_score.values():\n",
    "    print(value)"
   ]
  }
 ],
 "metadata": {
  "kernelspec": {
   "display_name": "venv",
   "language": "python",
   "name": "venv"
  },
  "language_info": {
   "codemirror_mode": {
    "name": "ipython",
    "version": 3
   },
   "file_extension": ".py",
   "mimetype": "text/x-python",
   "name": "python",
   "nbconvert_exporter": "python",
   "pygments_lexer": "ipython3",
   "version": "3.10.2"
  }
 },
 "nbformat": 4,
 "nbformat_minor": 5
}
